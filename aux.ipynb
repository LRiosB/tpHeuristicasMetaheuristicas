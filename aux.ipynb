{
 "cells": [
  {
   "cell_type": "code",
   "execution_count": 7,
   "metadata": {},
   "outputs": [
    {
     "name": "stdout",
     "output_type": "stream",
     "text": [
      "['TP', 1, 2, 11, 10, 9, 8, 7, 6, 5, 4, 3, 12]\n"
     ]
    }
   ],
   "source": [
    "array = [\"TP\", 1, 2, 3, 4, 5, 6, 7, 8, 9, 10, 11, 12]\n",
    "\n",
    "startSwapPosition = 3\n",
    "endSwapPosition = 11\n",
    "\n",
    "\n",
    "array = array[:startSwapPosition] + array[startSwapPosition:endSwapPosition+1][::-1] + array[endSwapPosition+1:]\n",
    "\n",
    "print(array)"
   ]
  },
  {
   "cell_type": "code",
   "execution_count": 9,
   "metadata": {},
   "outputs": [
    {
     "name": "stdout",
     "output_type": "stream",
     "text": [
      "['TP', 1, 2, 12, 11, 10, 9, 8, 7, 6, 5, 4, 3]\n"
     ]
    }
   ],
   "source": [
    "array = [\"TP\", 1, 2, 3, 4, 5, 6, 7, 8, 9, 10, 11, 12]\n",
    "\n",
    "startSwapPosition = 3\n",
    "endSwapPosition = 15\n",
    "\n",
    "\n",
    "array[startSwapPosition:endSwapPosition+1] = reversed(array[startSwapPosition:endSwapPosition+1])\n",
    "\n",
    "print(array)"
   ]
  }
 ],
 "metadata": {
  "kernelspec": {
   "display_name": "Python 3",
   "language": "python",
   "name": "python3"
  },
  "language_info": {
   "codemirror_mode": {
    "name": "ipython",
    "version": 3
   },
   "file_extension": ".py",
   "mimetype": "text/x-python",
   "name": "python",
   "nbconvert_exporter": "python",
   "pygments_lexer": "ipython3",
   "version": "3.10.12"
  }
 },
 "nbformat": 4,
 "nbformat_minor": 2
}
