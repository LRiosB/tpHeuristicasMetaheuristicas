{
 "cells": [
  {
   "cell_type": "code",
   "execution_count": 2,
   "metadata": {},
   "outputs": [
    {
     "data": {
      "text/html": [
       "<div>\n",
       "<style scoped>\n",
       "    .dataframe tbody tr th:only-of-type {\n",
       "        vertical-align: middle;\n",
       "    }\n",
       "\n",
       "    .dataframe tbody tr th {\n",
       "        vertical-align: top;\n",
       "    }\n",
       "\n",
       "    .dataframe thead th {\n",
       "        text-align: right;\n",
       "    }\n",
       "</style>\n",
       "<table border=\"1\" class=\"dataframe\">\n",
       "  <thead>\n",
       "    <tr style=\"text-align: right;\">\n",
       "      <th></th>\n",
       "      <th>Object</th>\n",
       "      <th>Percentage</th>\n",
       "      <th>Num objects</th>\n",
       "      <th>Total num objects</th>\n",
       "      <th>NNE</th>\n",
       "      <th>NNT</th>\n",
       "      <th>GCL</th>\n",
       "      <th>NNE VND</th>\n",
       "      <th>NNT VND</th>\n",
       "      <th>GCL VND</th>\n",
       "    </tr>\n",
       "  </thead>\n",
       "  <tbody>\n",
       "    <tr>\n",
       "      <th>0</th>\n",
       "      <td>Violetgrass</td>\n",
       "      <td>0.10</td>\n",
       "      <td>20</td>\n",
       "      <td>200</td>\n",
       "      <td>137.977044</td>\n",
       "      <td>26.714777</td>\n",
       "      <td>68.744875</td>\n",
       "      <td>79.303530</td>\n",
       "      <td>26.714777</td>\n",
       "      <td>68.744875</td>\n",
       "    </tr>\n",
       "    <tr>\n",
       "      <th>1</th>\n",
       "      <td>Violetgrass</td>\n",
       "      <td>0.25</td>\n",
       "      <td>50</td>\n",
       "      <td>200</td>\n",
       "      <td>405.113568</td>\n",
       "      <td>88.741958</td>\n",
       "      <td>175.467409</td>\n",
       "      <td>194.035461</td>\n",
       "      <td>88.741958</td>\n",
       "      <td>174.937654</td>\n",
       "    </tr>\n",
       "    <tr>\n",
       "      <th>2</th>\n",
       "      <td>Violetgrass</td>\n",
       "      <td>0.50</td>\n",
       "      <td>100</td>\n",
       "      <td>200</td>\n",
       "      <td>801.407839</td>\n",
       "      <td>259.843919</td>\n",
       "      <td>329.953514</td>\n",
       "      <td>401.048152</td>\n",
       "      <td>259.843919</td>\n",
       "      <td>321.662802</td>\n",
       "    </tr>\n",
       "    <tr>\n",
       "      <th>3</th>\n",
       "      <td>Violetgrass</td>\n",
       "      <td>0.75</td>\n",
       "      <td>150</td>\n",
       "      <td>200</td>\n",
       "      <td>1211.748949</td>\n",
       "      <td>440.752114</td>\n",
       "      <td>496.615290</td>\n",
       "      <td>561.775565</td>\n",
       "      <td>435.704497</td>\n",
       "      <td>479.934765</td>\n",
       "    </tr>\n",
       "    <tr>\n",
       "      <th>4</th>\n",
       "      <td>Violetgrass</td>\n",
       "      <td>1.00</td>\n",
       "      <td>200</td>\n",
       "      <td>200</td>\n",
       "      <td>1521.305509</td>\n",
       "      <td>693.887895</td>\n",
       "      <td>698.694417</td>\n",
       "      <td>728.361546</td>\n",
       "      <td>686.706428</td>\n",
       "      <td>686.706428</td>\n",
       "    </tr>\n",
       "  </tbody>\n",
       "</table>\n",
       "</div>"
      ],
      "text/plain": [
       "        Object  Percentage  Num objects  Total num objects          NNE  \\\n",
       "0  Violetgrass        0.10           20                200   137.977044   \n",
       "1  Violetgrass        0.25           50                200   405.113568   \n",
       "2  Violetgrass        0.50          100                200   801.407839   \n",
       "3  Violetgrass        0.75          150                200  1211.748949   \n",
       "4  Violetgrass        1.00          200                200  1521.305509   \n",
       "\n",
       "          NNT         GCL     NNE VND     NNT VND     GCL VND  \n",
       "0   26.714777   68.744875   79.303530   26.714777   68.744875  \n",
       "1   88.741958  175.467409  194.035461   88.741958  174.937654  \n",
       "2  259.843919  329.953514  401.048152  259.843919  321.662802  \n",
       "3  440.752114  496.615290  561.775565  435.704497  479.934765  \n",
       "4  693.887895  698.694417  728.361546  686.706428  686.706428  "
      ]
     },
     "execution_count": 2,
     "metadata": {},
     "output_type": "execute_result"
    }
   ],
   "source": [
    "import pandas as pd\n",
    "\n",
    "df = pd.read_csv(\"aux.csv\")\n",
    "\n",
    "df.head()"
   ]
  },
  {
   "cell_type": "code",
   "execution_count": 6,
   "metadata": {},
   "outputs": [
    {
     "data": {
      "text/plain": [
       "'[2.57, 1.98, 1.27, 1.13, 1.01, 1.63, 1.63, 1.48, 1.11, 1.0, 1.54, 1.78, 1.24, 1.26, 1.03, 1.43, 1.08, 1.38, 0.99, 1.0, 1.0, 0.95, 1.26, 1.18, 1.01, 1.33, 1.41, 1.11, 1.22, 1.11, 1.0, 1.04, 1.11, 1.28, 1.0, 2.35, 0.94, 0.85, 1.2, 1.03, 1.87, 2.12, 1.22, 1.06, 1.0, 2.55, 1.55, 1.36, 1.05, 1.0]'"
      ]
     },
     "execution_count": 6,
     "metadata": {},
     "output_type": "execute_result"
    }
   ],
   "source": [
    "aux = []\n",
    "for row in range(len(df)):\n",
    "\n",
    "    nnt = df[\"NNT\"][row]\n",
    "    gcl = df[\"GCL\"][row]\n",
    "\n",
    "    aux += [round(gcl/nnt, 2)]\n",
    "\n",
    "str(aux)"
   ]
  },
  {
   "cell_type": "code",
   "execution_count": 11,
   "metadata": {},
   "outputs": [
    {
     "name": "stdout",
     "output_type": "stream",
     "text": [
      "[1.0, 1.0, 1.0, 0.99, 0.99, 1.0, 1.0, 0.98, 0.99, 1.0, 1.0, 1.0, 1.0, 0.98, 0.97, 1.0, 1.0, 0.99, 0.95, 1.0, 1.0, 1.0, 1.0, 1.0, 1.0, 1.0, 1.0, 1.0, 1.0, 1.0, 1.0, 1.0, 1.0, 1.0, 1.0, 1.0, 1.0, 1.0, 1.0, 1.0, 1.0, 1.0, 0.99, 1.0, 1.0, 1.0, 1.0, 1.0, 1.0, 1.0]\n",
      "50\n",
      "41\n"
     ]
    }
   ],
   "source": [
    "aux = []\n",
    "for row in range(len(df)):\n",
    "\n",
    "    nnt = df[\"NNT\"][row]\n",
    "    nntvnd = df[\"NNT VND\"][row]\n",
    "\n",
    "    aux += [round(nntvnd/nnt, 2)]\n",
    "\n",
    "print(str(aux))\n",
    "print(len(aux))\n",
    "print(len([a for a in aux if a == 1.0]))"
   ]
  },
  {
   "cell_type": "code",
   "execution_count": 14,
   "metadata": {},
   "outputs": [
    {
     "name": "stdout",
     "output_type": "stream",
     "text": [
      "[True, True, True, True, False, True, True, True, True, True, True, True, True, True, True, True, True, True, True, True, True, False, True, True, True, True, True, True, True, True, True, True, True, True, True, True, False, False, True, False, True, True, True, True, False, True, True, True, True, False]\n",
      "50\n",
      "43\n"
     ]
    }
   ],
   "source": [
    "aux = []\n",
    "for row in range(len(df)):\n",
    "\n",
    "    nntvnd = df[\"NNT VND\"][row]\n",
    "    gclvnd = df[\"GCL VND\"][row]\n",
    "\n",
    "    aux += [(nntvnd <= gclvnd)]\n",
    "\n",
    "print(str(aux))\n",
    "print(len(aux))\n",
    "print(len([a for a in aux if a]))"
   ]
  }
 ],
 "metadata": {
  "kernelspec": {
   "display_name": "Python 3",
   "language": "python",
   "name": "python3"
  },
  "language_info": {
   "codemirror_mode": {
    "name": "ipython",
    "version": 3
   },
   "file_extension": ".py",
   "mimetype": "text/x-python",
   "name": "python",
   "nbconvert_exporter": "python",
   "pygments_lexer": "ipython3",
   "version": "3.10.12"
  }
 },
 "nbformat": 4,
 "nbformat_minor": 2
}
